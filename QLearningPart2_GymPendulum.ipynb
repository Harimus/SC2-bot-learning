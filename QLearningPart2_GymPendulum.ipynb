{
 "cells": [
  {
   "cell_type": "code",
   "execution_count": 2,
   "metadata": {},
   "outputs": [],
   "source": [
    "import gym\n",
    "import numpy as np\n",
    "import tensorflow as tf\n",
    "import matplotlib.pyplot as plt\n",
    "import tensorflow.contrib.slim as slim"
   ]
  },
  {
   "cell_type": "code",
   "execution_count": 3,
   "metadata": {},
   "outputs": [],
   "source": [
    "env = gym.make('CartPole-v0')\n",
    "state_size = 4 # [Position, Velocity, Pole Angle, Pole Velocity]\n",
    "action_size = 2 # [Left, Right] \n",
    "#state_size = 2 # [Position, Velocity, Pole Angle, Pole Velocity]\n",
    "#action_size = 3 # [Left, Right] \n",
    "\n",
    "#Reward = 1 for each step taken including termination step"
   ]
  },
  {
   "cell_type": "code",
   "execution_count": 4,
   "metadata": {},
   "outputs": [],
   "source": [
    "gamma = 0.99\n",
    "\n",
    "def discount_rewards(r):\n",
    "    \"\"\" take 1D float array of rewards and compute discounted reward \"\"\"\n",
    "    discounted_r = np.zeros_like(r)\n",
    "    running_add = 0\n",
    "    for t in reversed(range(0, r.size)):\n",
    "        running_add = running_add * gamma + r[t]\n",
    "        discounted_r[t] = running_add\n",
    "    return discounted_r\n"
   ]
  },
  {
   "cell_type": "code",
   "execution_count": 5,
   "metadata": {},
   "outputs": [],
   "source": [
    "class Agent():\n",
    "    def __init__(self, lr, s_size, a_size,h_size):\n",
    "        \n",
    "        #Feedforward\n",
    "        self.state_in= tf.placeholder(shape=[None,s_size],dtype=tf.float32)\n",
    "        hidden = slim.fully_connected(self.state_in,h_size,biases_initializer=None,activation_fn=tf.nn.relu)\n",
    "        self.output = slim.fully_connected(hidden,a_size,activation_fn=tf.nn.softmax,biases_initializer=None)\n",
    "        self.chosen_action = tf.argmax(self.output,1)\n",
    "\n",
    "        #Training Procedure\n",
    "        \n",
    "        self.reward_holder = tf.placeholder(shape = [None], dtype= tf.float32)\n",
    "        self.action_holder = tf.placeholder(shape = [None], dtype=tf.int32)\n",
    "        \n",
    "        self.indexes = tf.range(0,tf.shape(self.output)[0]) * tf.shape(self.output)[1]+ self.action_holder\n",
    "        \n",
    "        self.responsible_outputs = tf.gather(tf.reshape(self.output, [-1]), self.indexes)\n",
    "\n",
    "        self.loss = -tf.reduce_mean(tf.log(self.responsible_outputs)*self.reward_holder)\n",
    "        \n",
    "        tvars = tf.trainable_variables()\n",
    "        self.gradient_holders = []\n",
    "        for idx,var in enumerate(tvars):\n",
    "            placeholder = tf.placeholder(tf.float32,name=str(idx)+'_holder')\n",
    "            self.gradient_holders.append(placeholder)\n",
    "        \n",
    "        self.gradients = tf.gradients(self.loss,tvars)\n",
    "        \n",
    "        optimizer = tf.train.AdamOptimizer(learning_rate=lr)\n",
    "        self.update_batch = optimizer.apply_gradients(zip(self.gradient_holders,tvars))"
   ]
  },
  {
   "cell_type": "code",
   "execution_count": 6,
   "metadata": {
    "scrolled": false
   },
   "outputs": [
    {
     "name": "stdout",
     "output_type": "stream",
     "text": [
      "WARNING:tensorflow:From C:\\Users\\Dan\\Anaconda3\\envs\\OpenAIandSc2\\lib\\site-packages\\tensorflow\\python\\framework\\op_def_library.py:263: colocate_with (from tensorflow.python.framework.ops) is deprecated and will be removed in a future version.\n",
      "Instructions for updating:\n",
      "Colocations handled automatically by placer.\n",
      "WARNING:tensorflow:From C:\\Users\\Dan\\Anaconda3\\envs\\OpenAIandSc2\\lib\\site-packages\\tensorflow\\python\\ops\\array_grad.py:425: to_int32 (from tensorflow.python.ops.math_ops) is deprecated and will be removed in a future version.\n",
      "Instructions for updating:\n",
      "Use tf.cast instead.\n"
     ]
    },
    {
     "name": "stderr",
     "output_type": "stream",
     "text": [
      "C:\\Users\\Dan\\Anaconda3\\envs\\OpenAIandSc2\\lib\\site-packages\\tensorflow\\python\\ops\\gradients_impl.py:110: UserWarning: Converting sparse IndexedSlices to a dense Tensor of unknown shape. This may consume a large amount of memory.\n",
      "  \"Converting sparse IndexedSlices to a dense Tensor of unknown shape. \"\n"
     ]
    },
    {
     "name": "stdout",
     "output_type": "stream",
     "text": [
      "12.0\n",
      "24.39\n",
      "30.12\n",
      "38.76\n",
      "48.0\n",
      "66.07\n",
      "97.91\n",
      "114.39\n",
      "126.15\n",
      "132.22\n",
      "167.46\n",
      "175.56\n",
      "177.72\n",
      "178.98\n",
      "190.78\n",
      "191.84\n",
      "175.91\n",
      "169.25\n",
      "186.11\n",
      "196.27\n"
     ]
    }
   ],
   "source": [
    "tf.reset_default_graph() #Clear the Tensorflow graph.\n",
    "\n",
    "myAgent = Agent(lr=1e-2,s_size=state_size,a_size=action_size,h_size=8) #Load the agent.\n",
    "\n",
    "total_episodes = 2000 #Set total number of episodes to train agent on.\n",
    "max_ep = 999\n",
    "update_frequency = 5\n",
    "\n",
    "init = tf.global_variables_initializer()\n",
    "\n",
    "# Launch the tensorflow graph\n",
    "sess = tf.Session()\n",
    "sess.run(init)\n",
    "i = 0\n",
    "total_reward = []\n",
    "total_length = []\n",
    "\n",
    "#Reset the buffer or variable initiated by slim.fully_connected\n",
    "gradBuffer = sess.run(tf.trainable_variables())\n",
    "for ix,grad in enumerate(gradBuffer):\n",
    "    gradBuffer[ix] = grad * 0\n",
    "while i < total_episodes:\n",
    "    s = env.reset()\n",
    "    running_reward = 0\n",
    "    ep_history = []\n",
    "    for j in range(max_ep):\n",
    "        #Probabilistically pick an action given our network outputs.        \n",
    "        a_dist = sess.run(myAgent.output,feed_dict={myAgent.state_in:[s]})\n",
    "        a = np.random.choice(a_dist[0],p=a_dist[0])\n",
    "        a = np.argmax(a_dist == a)\n",
    "        s1,r,d,_ = env.step(a) #Get our reward for taking an action given a bandit.\n",
    "        if i % 100 == 0 and (total_episodes - i) < 540:\n",
    "            env.render()\n",
    "        ep_history.append([s,a,r,s1])\n",
    "        s = s1\n",
    "        running_reward += r\n",
    "        if d == True:\n",
    "            #Update the network.\n",
    "            ep_history = np.array(ep_history)\n",
    "            \n",
    "            ep_history[:,2] = discount_rewards(ep_history[:,2])\n",
    "            feed_dict={myAgent.reward_holder:ep_history[:,2],\n",
    "                    myAgent.action_holder:ep_history[:,1],myAgent.state_in:np.vstack(ep_history[:,0])}\n",
    "           # print(feed_dict)\n",
    "            grads = sess.run(myAgent.gradients, feed_dict=feed_dict)\n",
    "            for idx,grad in enumerate(grads):\n",
    "                gradBuffer[idx] += grad\n",
    "\n",
    "            if i % update_frequency == 0 and i != 0:\n",
    "                feed_dict= dictionary = dict(zip(myAgent.gradient_holders, gradBuffer))\n",
    "                _ = sess.run(myAgent.update_batch, feed_dict=feed_dict)\n",
    "                for ix,grad in enumerate(gradBuffer):\n",
    "                    gradBuffer[ix] = grad * 0\n",
    "\n",
    "            total_reward.append(running_reward)\n",
    "            total_length.append(j)\n",
    "            break\n",
    "\n",
    "    \n",
    "        #Update our running tally of scores.\n",
    "    if i % 100 == 0:\n",
    "        print(np.mean(total_reward[-100:]))\n",
    "    i += 1\n",
    "\n",
    "saver = tf.train.Saver()\n",
    "\n",
    "#save_path = saver.save(sess,'/home/dan/JupyterNotebook/QL2Data.ckpt')"
   ]
  },
  {
   "cell_type": "code",
   "execution_count": 7,
   "metadata": {},
   "outputs": [],
   "source": [
    "d = False\n",
    "s = env.reset()\n",
    "i = 0\n",
    "while not d:\n",
    "    a = np.random.randint(2)\n",
    "    s1,r,d,_ = env.step(a)\n",
    "    env.render()\n",
    "    i+=1"
   ]
  },
  {
   "cell_type": "code",
   "execution_count": 8,
   "metadata": {},
   "outputs": [],
   "source": [
    "d = False\n",
    "s = env.reset() \n",
    "i = 0\n",
    "while not d:\n",
    "    a = sess.run(myAgent.chosen_action,feed_dict={myAgent.state_in:[s]})\n",
    "    a = a[0]\n",
    "    s1, r, d,_ = env.step(a)\n",
    "    s = s1\n",
    "    env.render()\n",
    "    i+=1\n",
    "            "
   ]
  },
  {
   "cell_type": "code",
   "execution_count": 9,
   "metadata": {},
   "outputs": [],
   "source": [
    "env.close()"
   ]
  },
  {
   "cell_type": "code",
   "execution_count": 10,
   "metadata": {},
   "outputs": [],
   "source": [
    "#Vanilla RNNaccording to Lecture slides\n",
    "#-------------------------------------\n",
    "# h = Hidden state\n",
    "# x = input vector (observation) 4x1\n",
    "# y = output vector (action 0 or 1) 2x1\n",
    "# p = probability output\n",
    "\n",
    "# a_t = W * h_{t-1} * U * x_t + b\n",
    "# h_t = tanh(a)\n",
    "# o_t = V*h_t + c\n",
    "# p_t = softmax(o_t)\n",
    "\n",
    "class VanillaRNNAgent():\n",
    "    def __init__(self,lr,obs_size_action_size):\n",
    "        \n",
    "        x = tf.placeholder(shape=[obs_size], dtype = float32)\n",
    "        h = tf.placeholder()\n",
    "\n"
   ]
  }
 ],
 "metadata": {
  "kernelspec": {
   "display_name": "Python 3",
   "language": "python",
   "name": "python3"
  },
  "language_info": {
   "codemirror_mode": {
    "name": "ipython",
    "version": 3
   },
   "file_extension": ".py",
   "mimetype": "text/x-python",
   "name": "python",
   "nbconvert_exporter": "python",
   "pygments_lexer": "ipython3",
   "version": "3.7.3"
  }
 },
 "nbformat": 4,
 "nbformat_minor": 2
}
