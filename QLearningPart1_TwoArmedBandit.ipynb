{
 "cells": [
  {
   "cell_type": "code",
   "execution_count": 2,
   "metadata": {},
   "outputs": [],
   "source": [
    "import gym\n",
    "from gym.envs.registration import register\n",
    "import numpy as np\n",
    "import tensorflow as tf\n",
    "import matplotlib.pyplot as plt\n",
    "\n"
   ]
  },
  {
   "cell_type": "code",
   "execution_count": 4,
   "metadata": {},
   "outputs": [],
   "source": [
    "# bandits\n",
    "\n",
    "bandits = [0.2 , 0 , -0.2 , -5]\n",
    "num_bandits = len(bandits)\n",
    "def pullBandit(bandit):\n",
    "    #Get a random number\n",
    "    result = np.random.randn(1)\n",
    "    if result > bandit:\n",
    "        return 1\n",
    "    else:\n",
    "        return -1"
   ]
  },
  {
   "cell_type": "code",
   "execution_count": 7,
   "metadata": {},
   "outputs": [],
   "source": [
    "tf.reset_default_graph()\n",
    "\n",
    "weights = tf.Variable(tf.ones([num_bandits]))\n",
    "chosen_action = tf.arg_max(weights,0)\n",
    "\n",
    "reward_holder = tf.placeholder(shape=[1], dtype=tf.float32)\n",
    "action_holder = tf.placeholder(shape=[1], dtype=tf.int32)\n",
    "responsible_weight = tf.slice(weights,action_holder,[1])\n",
    "loss = -(tf.log(responsible_weight)*reward_holder)\n",
    "\n",
    "optimizer = tf.train.GradientDescentOptimizer(learning_rate=0.001)\n",
    "update = optimizer.minimize(loss)\n"
   ]
  },
  {
   "cell_type": "code",
   "execution_count": 22,
   "metadata": {},
   "outputs": [
    {
     "name": "stdout",
     "output_type": "stream",
     "text": [
      "Running reward for the 4 bandits: [-1.  0.  0.  0.]\n",
      "Running reward for the 4 bandits: [ 0. -2. -1. 40.]\n",
      "Running reward for the 4 bandits: [-1. -2.  0. 88.]\n",
      "Running reward for the 4 bandits: [ -2.   0.   0. 135.]\n",
      "Running reward for the 4 bandits: [ -4.   0.   1. 180.]\n",
      "Running reward for the 4 bandits: [ -5.  -1.   1. 226.]\n",
      "Running reward for the 4 bandits: [ -5.  -3.   1. 274.]\n",
      "Running reward for the 4 bandits: [ -5.  -2.   1. 321.]\n",
      "Running reward for the 4 bandits: [ -5.  -2.   3. 369.]\n",
      "Running reward for the 4 bandits: [ -6.  -2.   4. 417.]\n",
      "Running reward for the 4 bandits: [ -5.  -3.   4. 463.]\n",
      "Running reward for the 4 bandits: [ -6.  -4.   4. 511.]\n",
      "Running reward for the 4 bandits: [ -6.  -4.   5. 560.]\n",
      "Running reward for the 4 bandits: [ -8.  -4.   5. 606.]\n",
      "Running reward for the 4 bandits: [ -9.  -5.   5. 650.]\n",
      "Running reward for the 4 bandits: [ -8.  -6.   4. 695.]\n",
      "Running reward for the 4 bandits: [ -7.  -9.   4. 741.]\n",
      "Running reward for the 4 bandits: [ -7.  -9.   4. 791.]\n",
      "Running reward for the 4 bandits: [ -8.  -7.   4. 836.]\n",
      "Running reward for the 4 bandits: [-10.  -8.   4. 881.]\n",
      "The agent thinks bandit 4 is the most promising out of[0.9899617  0.99198294 1.003007   1.6871632 ] ....\n",
      "and it was right!\n"
     ]
    }
   ],
   "source": [
    "total_episodes = 1000\n",
    "\n",
    "total_reward = np.zeros(num_bandits)\n",
    "e = 0.1\n",
    "\n",
    "init = tf.initialize_all_variables()\n",
    "\n",
    "with tf.Session() as sess:\n",
    "    sess.run(init)\n",
    "    i = 0\n",
    "    while i < total_episodes:\n",
    "        \n",
    "        if np.random.rand(1) < e:\n",
    "            action = np.random.randint(num_bandits)\n",
    "        else:\n",
    "            action = sess.run(chosen_action)\n",
    "            \n",
    "        reward = pullBandit(bandits[action])\n",
    "        \n",
    "        _, resp,ww = sess.run([update, responsible_weight, weights]\n",
    "                              , feed_dict={reward_holder: [reward],action_holder:[action]})\n",
    "        total_reward[action] += reward\n",
    "        if i % 50 == 0:\n",
    "            print(\"Running reward for the \" + str(num_bandits) + \n",
    "                  \" bandits: \" + str(total_reward))\n",
    "        i+=1\n",
    "        \n",
    "print(\"The agent thinks bandit \" + str(np.argmax(ww)+1) + \" is the most promising out of\" + str(ww) + \" ....\")\n",
    "if np.argmax(ww) == np.argmax(-np.array(bandits)):\n",
    "    print( \"and it was right!\")\n",
    "else:\n",
    "    print(\"Wrong!\")\n",
    "            \n",
    "            \n",
    "            "
   ]
  },
  {
   "cell_type": "code",
   "execution_count": null,
   "metadata": {},
   "outputs": [],
   "source": []
  }
 ],
 "metadata": {
  "kernelspec": {
   "display_name": "Python 3",
   "language": "python",
   "name": "python3"
  },
  "language_info": {
   "codemirror_mode": {
    "name": "ipython",
    "version": 3
   },
   "file_extension": ".py",
   "mimetype": "text/x-python",
   "name": "python",
   "nbconvert_exporter": "python",
   "pygments_lexer": "ipython3",
   "version": "3.7.3"
  }
 },
 "nbformat": 4,
 "nbformat_minor": 2
}
